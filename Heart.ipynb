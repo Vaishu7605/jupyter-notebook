{
 "cells": [
  {
   "cell_type": "code",
   "execution_count": null,
   "id": "8a036dd1-0676-4e1a-b36e-acaf23fa56e8",
   "metadata": {},
   "outputs": [],
   "source": [
    "import math\n",
    "from turtle import *\n",
    "\n",
    "speed(0)\n",
    "bgcolor(\"black\")\n",
    "\n",
    "def heart_a(k):\n",
    "    return 15 * math.sin(k) ** 3\n",
    "\n",
    "def heart_b(k):\n",
    "    return 12 * math.cos(k) - 5 * math.cos(2 * k) - 2 * math.cos(3 * k) - math.cos(4 * k)\n",
    "\n",
    "color(\"red\")\n",
    "up()\n",
    "goto(heart_a(0) * 20, heart_b(0) * 20)\n",
    "down()\n",
    "\n",
    "for i in range(1000):\n",
    "    goto(heart_a(i) * 20, heart_b(i) * 20)\n",
    "    color(\"red\")\n",
    "    for j in range(5):\n",
    "        goto(0, 0)\n"
   ]
  },
  {
   "cell_type": "code",
   "execution_count": null,
   "id": "b46a7005-ab5e-410d-a977-93dde7bbadb5",
   "metadata": {},
   "outputs": [],
   "source": []
  },
  {
   "cell_type": "code",
   "execution_count": null,
   "id": "19be6c01-3692-452b-a3da-8c835cd94e3d",
   "metadata": {},
   "outputs": [],
   "source": []
  }
 ],
 "metadata": {
  "kernelspec": {
   "display_name": "Python 3 (ipykernel)",
   "language": "python",
   "name": "python3"
  },
  "language_info": {
   "codemirror_mode": {
    "name": "ipython",
    "version": 3
   },
   "file_extension": ".py",
   "mimetype": "text/x-python",
   "name": "python",
   "nbconvert_exporter": "python",
   "pygments_lexer": "ipython3",
   "version": "3.11.0"
  }
 },
 "nbformat": 4,
 "nbformat_minor": 5
}
